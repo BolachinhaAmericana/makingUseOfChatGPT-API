{
  "nbformat": 4,
  "nbformat_minor": 0,
  "metadata": {
    "colab": {
      "provenance": []
    },
    "kernelspec": {
      "name": "python3",
      "display_name": "Python 3"
    },
    "language_info": {
      "name": "python"
    }
  },
  "cells": [
    {
      "cell_type": "markdown",
      "source": [
        "# Using GPT-API with colab"
      ],
      "metadata": {
        "id": "Q3AVWt3ULQuK"
      }
    },
    {
      "cell_type": "markdown",
      "source": [
        "- Please keep in mind you will need to request and input in this program your gpt-api key."
      ],
      "metadata": {
        "id": "2wTV-BwULZv5"
      }
    },
    {
      "cell_type": "markdown",
      "source": [
        "## Installing packages"
      ],
      "metadata": {
        "id": "D0IzUrfJLoTh"
      }
    },
    {
      "cell_type": "code",
      "execution_count": null,
      "metadata": {
        "colab": {
          "base_uri": "https://localhost:8080/"
        },
        "id": "YIXeIC2uEQPQ",
        "outputId": "307a17fb-205c-4686-d02b-9bf36e0b8bae"
      },
      "outputs": [
        {
          "output_type": "stream",
          "name": "stdout",
          "text": [
            "Looking in indexes: https://pypi.org/simple, https://us-python.pkg.dev/colab-wheels/public/simple/\n",
            "Requirement already satisfied: requests in /usr/local/lib/python3.9/dist-packages (2.25.1)\n",
            "Requirement already satisfied: urllib3<1.27,>=1.21.1 in /usr/local/lib/python3.9/dist-packages (from requests) (1.26.15)\n",
            "Requirement already satisfied: chardet<5,>=3.0.2 in /usr/local/lib/python3.9/dist-packages (from requests) (4.0.0)\n",
            "Requirement already satisfied: idna<3,>=2.5 in /usr/local/lib/python3.9/dist-packages (from requests) (2.10)\n",
            "Requirement already satisfied: certifi>=2017.4.17 in /usr/local/lib/python3.9/dist-packages (from requests) (2022.12.7)\n"
          ]
        }
      ],
      "source": [
        "!pip install requests"
      ]
    },
    {
      "cell_type": "markdown",
      "source": [
        "## Importing packages"
      ],
      "metadata": {
        "id": "kDsuzt96L8FX"
      }
    },
    {
      "cell_type": "code",
      "source": [
        "from getpass import getpass\n",
        "import requests"
      ],
      "metadata": {
        "id": "YDjsM7WQL7au"
      },
      "execution_count": null,
      "outputs": []
    },
    {
      "cell_type": "markdown",
      "source": [
        "## Getting access to the API"
      ],
      "metadata": {
        "id": "34cz4WImLuC3"
      }
    },
    {
      "cell_type": "markdown",
      "source": [
        "- The first time you run this notebook you will need to enter your api key.\\\n",
        "you can do this by running the next block and entering your token.\n",
        "- The file `gpt-token` will be created/overwritten with the input you just gave as it's content. If you wish to not let this happen, just ignore/comment the next 2nd and 3rd cells.\n",
        "- For convenience purposes, you can then ignore the first two cells and run just the 3rd. This will read the file previously created and access the token that way."
      ],
      "metadata": {
        "id": "X5pJpzHRMFOM"
      }
    },
    {
      "cell_type": "code",
      "source": [
        "#token_key = getpass('Please enter your GPT API key: ')"
      ],
      "metadata": {
        "id": "YqTxzQhVFMPG"
      },
      "execution_count": null,
      "outputs": []
    },
    {
      "cell_type": "code",
      "source": [
        "#!touch gpt-token|echo $token_key > gpt-token"
      ],
      "metadata": {
        "id": "b3CBpQG9M_s5"
      },
      "execution_count": null,
      "outputs": []
    },
    {
      "cell_type": "code",
      "source": [
        "token_key = open('gpt-token', 'r').read().removesuffix('\\n')"
      ],
      "metadata": {
        "id": "O3cEgozKI7Gs"
      },
      "execution_count": null,
      "outputs": []
    },
    {
      "cell_type": "markdown",
      "source": [
        "## Creating the default function to call GPT"
      ],
      "metadata": {
        "id": "PHWDofvUNfba"
      }
    },
    {
      "cell_type": "code",
      "source": [
        "def chatGPT(text):\n",
        "  url = \"https://api.openai.com/v1/completions\"\n",
        "  headers = {\n",
        "  \"Content-Type\": \"application/json\",\n",
        "  \"Authorization\": f\"Bearer {token_key}\",\n",
        "  }\n",
        "  data = { \n",
        "  \"model\": \"text-davinci-003\",\n",
        "  \"prompt\": text,\n",
        "  \"max_tokens\": 4000,\n",
        "  \"temperature\": 1.0,\n",
        "  }\n",
        "  response = requests.post(url, headers=headers, json=data)\n",
        "  output = response.json()['choices'][0]['text']\n",
        "  \n",
        "  return print(output)"
      ],
      "metadata": {
        "id": "z2KH4TCXNesR"
      },
      "execution_count": null,
      "outputs": []
    },
    {
      "cell_type": "code",
      "source": [
        "chatGPT('what the dog doing?')"
      ],
      "metadata": {
        "colab": {
          "base_uri": "https://localhost:8080/"
        },
        "id": "-ONqurjNN4_U",
        "outputId": "74c24db7-ad0c-4af5-b772-408d470889ac"
      },
      "execution_count": null,
      "outputs": [
        {
          "output_type": "stream",
          "name": "stdout",
          "text": [
            "\n",
            "\n",
            "It depends on the dog. Some common behaviors include barking, running, playing, sleeping, eating, and tail-wagging.\n"
          ]
        }
      ]
    },
    {
      "cell_type": "code",
      "source": [
        "#chatGPT('Please correct me this sentence written in pt-pt: ')"
      ],
      "metadata": {
        "id": "Y6P6i5OaO_5C"
      },
      "execution_count": 27,
      "outputs": []
    }
  ]
}